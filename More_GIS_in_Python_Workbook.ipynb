{
 "cells": [
  {
   "cell_type": "markdown",
   "metadata": {},
   "source": [
    "# More GIS in Python Workbook"
   ]
  },
  {
   "cell_type": "markdown",
   "metadata": {},
   "source": [
    "This Jupyter Notebook will serve as your workspace for the More GIS in Python course. There are commented cells where you may enter and run your code as you make your way through.\n",
    "\n",
    "Make sure that you have completed the first step of installing all the required python packages before you begin."
   ]
  },
  {
   "cell_type": "markdown",
   "metadata": {},
   "source": [
    "## Set up Python"
   ]
  },
  {
   "cell_type": "markdown",
   "metadata": {},
   "source": [
    "* Open the Notebook **'More GIS in Python Workbook'**\n",
    "* As you make your way through the guided exercises on this Notebook, you may use the Workbook as your workspace.\n",
    "* Read through each exercise and try out your solution on the Template Notebook and check your output against the solution on this Notebook."
   ]
  },
  {
   "cell_type": "markdown",
   "metadata": {},
   "source": [
    "## Working directory structure"
   ]
  },
  {
   "cell_type": "markdown",
   "metadata": {},
   "source": [
    "It’s a good habit to keep your working directory in order.\n",
    "\n",
    "In this exercise we’ll be using the following structure in our project directory:\n",
    "* data\n",
    "    * csv\n",
    "    * img\n",
    "    * shp\n",
    "* output\n",
    "    * maps\n",
    "    "
   ]
  },
  {
   "cell_type": "markdown",
   "metadata": {},
   "source": [
    "If you don’t already have this set up, take some time to do it now."
   ]
  },
  {
   "cell_type": "markdown",
   "metadata": {},
   "source": [
    "## Install & load Python libraries"
   ]
  },
  {
   "cell_type": "markdown",
   "metadata": {},
   "source": [
    "As with every Python Project, make sure you have all required packages installed and loaded into your Notebook."
   ]
  },
  {
   "cell_type": "code",
   "execution_count": null,
   "metadata": {},
   "outputs": [],
   "source": [
    "#import pandas as pd\n",
    "#import numpy as np\n",
    "#import geopandas as gpd\n",
    "#import janitor as pj\n",
    "#import matplotlib.pyplot as plt\n",
    "#import fiona as fn\n",
    "#from matplotlib_scalebar.scalebar import ScaleBar"
   ]
  },
  {
   "cell_type": "markdown",
   "metadata": {},
   "source": [
    "## Data Sources"
   ]
  },
  {
   "cell_type": "markdown",
   "metadata": {},
   "source": [
    "As well as the data from Introduction to GIS in Python we will be using a few new data sources during this work:\n",
    "\n",
    "* [Ordnance Survey Open Greenspace](https://osdatahub.os.uk/downloads/open/OpenGreenspace?_ga=2.76356949.1574366512.1629803242-2038235350.1629803242)\n",
    "* A geopackage of London fire station locations (provided in the repo)\n",
    "* a csv of missing pet reports (a toy dataset provided in the repo)\n",
    "We have also provided you with a geopackage of the data and layers that were created in ‘Introduction to GIS in Python’ which may be useful in this walkthrough too - it’s called **\"intro_to_gis_files.gpkg\"**."
   ]
  },
  {
   "cell_type": "markdown",
   "metadata": {},
   "source": [
    "## Analysis Questions and Aims"
   ]
  },
  {
   "cell_type": "markdown",
   "metadata": {},
   "source": [
    "During this analysis we’ll aim to answer the following questions:\n",
    "\n",
    "* How is greenspace distributed in each UTLA in London?\n",
    "* How many animals are rescued in each London greenspace?\n",
    "* Is the fire station coverage in the area adequate to rescue all animals?\n",
    "* If not, how far away from the area covered by fire stations is each lost pet?\n",
    "* Produce maps and data to produce a mini analysis notebook/report/presentation showing the results of your analysis."
   ]
  },
  {
   "cell_type": "markdown",
   "metadata": {},
   "source": [
    "# Analysis"
   ]
  },
  {
   "cell_type": "markdown",
   "metadata": {},
   "source": [
    "## Preparing OS Open Greenspace"
   ]
  },
  {
   "cell_type": "markdown",
   "metadata": {},
   "source": [
    "As a first step we need to download the greenspace data for our analysis.\n",
    "\n",
    "Download tiles TQ and TL from the [Ordnance Survey Open Greenspace dataset](https://osdatahub.os.uk/downloads/open/OpenGreenspace?_ga=2.76356949.1574366512.1629803242-2038235350.1629803242) as a shapefile, unzip them and move them into the data/shp folder in your working directory.\n",
    "\n",
    "Tip: Don’t forget that one shapefile requires 3 consituent files to be valid (shp, shx, dbf), and may have other associated files too. Wikipedia has a comprehensive list of all potential extensions. Make sure all files have the same name and are stored in the same place otherwise your shapefile won’t work!\n",
    "\n",
    "We now need to load the two shapefiles in and merge them into one feature for subsequent analysis.\n",
    "\n",
    "You already know how to load in shapefiles so go ahead and do that.\n",
    "\n"
   ]
  },
  {
   "cell_type": "code",
   "execution_count": null,
   "metadata": {},
   "outputs": [],
   "source": [
    "#TL = gpd.read_file(r'D:\\2021\\Spatial\\more-GIS-in-Python\\data\\TL_GreenspaceSite.shp')"
   ]
  },
  {
   "cell_type": "code",
   "execution_count": null,
   "metadata": {},
   "outputs": [],
   "source": [
    "#TQ = gpd.read_file(r'D:\\2021\\Spatial\\more-GIS-in-Python\\data\\TQ_GreenspaceSite.shp')"
   ]
  },
  {
   "cell_type": "markdown",
   "metadata": {},
   "source": [
    "Now let’s make a quick plot to see what we just loaded in."
   ]
  },
  {
   "cell_type": "code",
   "execution_count": null,
   "metadata": {},
   "outputs": [],
   "source": [
    "#TL.plot(figsize = (10,10))"
   ]
  },
  {
   "cell_type": "markdown",
   "metadata": {},
   "source": [
    "When we inspect the head we can see that there are 6 fields in this dataset. Note that one field is the geometry field, which is where the spatial aspect of each object is stored. The ‘function’ column might be useful in our analysis later."
   ]
  },
  {
   "cell_type": "code",
   "execution_count": null,
   "metadata": {},
   "outputs": [],
   "source": [
    "#TL.tail(20)"
   ]
  },
  {
   "cell_type": "markdown",
   "metadata": {},
   "source": [
    "You might have noticed that the geometry type is multipolygon, which is something we haven’t come across yet. A multipoloygon is an object (row) in the dataset which can be comprised of a number of distinct polygons. Here’s an example:"
   ]
  },
  {
   "cell_type": "code",
   "execution_count": null,
   "metadata": {},
   "outputs": [],
   "source": [
    "#### in this code we combine the pandas filter function with matplotlib to plot one feature from the TL dataset\n",
    "#TL.loc[TL['id']== 'C72D73AB-9E4A-0B9F-E053-A03BA40AF257'].plot()"
   ]
  },
  {
   "cell_type": "markdown",
   "metadata": {},
   "source": [
    "Now we’ve had a quick look at our data we need to get it ready for analysis. We will merge the two greenspace tiles into one object in our Notebook so we can work with it more later.\n",
    "\n",
    "You have likely seen a version of the Venn diagrams below in the context of joining data. In this context, they show methods for working with poygon geometries. Looking at this diagram you might think that **Union** is what we want to join our two greenspace tiles together, but it’s not! **Union**  dissolves all the polygons in the layers into one huge multipart polygon. We want to keep our distinct greenspace polygons so we’ll go down a different route instead. However, keep the diagram below in mind because it can be very useful and you’ll stumble across it later too."
   ]
  },
  {
   "attachments": {
    "overlay_operations.png": {
     "image/png": "[encoded data removed]"
    }
   },
   "cell_type": "markdown",
   "metadata": {},
   "source": [
    "![overlay_operations.png](attachment:overlay_operations.png)\n",
    "\n",
    "*Image from Geopandas documentation.*"
   ]
  },
  {
   "cell_type": "markdown",
   "metadata": {},
   "source": [
    "As each multipart polygon in our dataset is represented as one row, joining the two datasets together is simple"
   ]
  },
  {
   "cell_type": "code",
   "execution_count": null,
   "metadata": {},
   "outputs": [],
   "source": [
    "#tiles_combined = [TL,TQ]"
   ]
  },
  {
   "cell_type": "code",
   "execution_count": null,
   "metadata": {},
   "outputs": [],
   "source": [
    "#greenspace = pd.concat(tiles_combined)"
   ]
  },
  {
   "cell_type": "markdown",
   "metadata": {},
   "source": [
    "There are a couple of sanity checks you can do here to make sure that went well - check the number of objects add up properly (8805+19932 = 28737!) and plot a map to check our object (we can clearly see London and part of the SE below)."
   ]
  },
  {
   "cell_type": "code",
   "execution_count": null,
   "metadata": {},
   "outputs": [],
   "source": [
    "#greenspace.plot(figsize =(10,10))"
   ]
  },
  {
   "cell_type": "markdown",
   "metadata": {},
   "source": [
    "Now we’ll crop our greenspace layer to the extent of London - this layer is one we prepared during ‘Introduction to GIS in Python’ so bring it back in from your code or import it from the **\"intro_to_gis_files.gpkg\"** file we’ve provided for you. If you’ve not come across a geopackage before don’t worry - a geopackage is a SQLite file, essentially a mini database which can hold multiple layers (both spatial and tabular)."
   ]
  },
  {
   "cell_type": "markdown",
   "metadata": {},
   "source": [
    "Use `fiona.listlayers()` to find out what layers are available in your geopackage."
   ]
  },
  {
   "cell_type": "code",
   "execution_count": null,
   "metadata": {},
   "outputs": [],
   "source": [
    "#gpkg = r'D:\\2021\\Spatial\\more-GIS-in-Python\\data\\intro_to_gis_files.gpkg'\n",
    "#layers = fn.listlayers(gpkg)"
   ]
  },
  {
   "cell_type": "code",
   "execution_count": null,
   "metadata": {},
   "outputs": [],
   "source": [
    "#layers"
   ]
  },
  {
   "cell_type": "code",
   "execution_count": null,
   "metadata": {},
   "outputs": [],
   "source": [
    "#london_boundary = gpd.read_file(r'D:\\2021\\Spatial\\more-GIS-in-Python\\data\\intro_to_gis_files.gpkg', layer = 'UTLA_2019_London_dissolved')"
   ]
  },
  {
   "cell_type": "code",
   "execution_count": null,
   "metadata": {},
   "outputs": [],
   "source": [
    "#greenspace_london = gpd.overlay(greenspace,london_boundary, how='intersection')"
   ]
  },
  {
   "cell_type": "markdown",
   "metadata": {},
   "source": [
    "Oh no! We have an error.\n",
    "\n",
    "This error says CRS mismatch between the CRS of left geometries and the CRS of right geometries. - in other words, the coordinate reference system (CRS) of the two input layers is not the same. It’s always good practice to check your coordinate reference systems are the same prior to undertaking spatial operations. You can check the CRS of a layer with **`.crs`** and you check two layers have the same CRS with **`gdf1.crs == gdf2.crs`**.\n",
    "\n",
    "If you check the two layers we have now you’ll find greenspace is provided in British National Grid (EPSG code: 27700) and **london_boundary** is in WGS84 (EPSG code: 4326). You’ll come across these two CRSs very commonly in UK focused work.\n",
    "\n",
    "To get rid of the error message you’ll need to transform one of your layers so it’s in the same CRS as the other. However, which one should you transform? Well, if you remember back to [Practical Geography for Statistics](https://onsgeo.github.io/geospatial-training/docs/practical_geog_and_stats#locating-spatial-data), we said that that WGS84 is a geographic coordinate reference system (which means it represents positions on the 3D Earth using longitude and latitude) whereas British National Grid is a projected coordinate reference system (which represents positions as if they were presented on a flat map using meters). Doing spatial operations is more simple and accurate on projected coordinate reference systems so in this instance we’ll transform the WGS84 layer to British National Grid.\n",
    "\n",
    "It’s worth noting here that all CRS transformations come with some degree of error so try to avoid unnecessary transformations, and if you’re using an unfamiliar CRS take a look into the accuracy of the transformation so that you understand the potential positional error you are introducing into your analysis.\n",
    "\n",
    "So, reproject **london_boundary** into British National Grid."
   ]
  },
  {
   "cell_type": "code",
   "execution_count": null,
   "metadata": {},
   "outputs": [],
   "source": [
    "#london_boundary = london_boundary.to_crs(27700)"
   ]
  },
  {
   "cell_type": "code",
   "execution_count": null,
   "metadata": {},
   "outputs": [],
   "source": [
    "#greenspace.crs == london_boundary.crs"
   ]
  },
  {
   "cell_type": "markdown",
   "metadata": {},
   "source": [
    "Now our layers are in the same CRS!"
   ]
  },
  {
   "cell_type": "code",
   "execution_count": null,
   "metadata": {},
   "outputs": [],
   "source": [
    "#greenspace_london = gpd.overlay(greenspace,london_boundary, how='intersection')"
   ]
  },
  {
   "cell_type": "markdown",
   "metadata": {},
   "source": [
    "Now you can see your greenspace layer has been clipped to the London boundary. We’re ready to get on with some analysis."
   ]
  },
  {
   "cell_type": "code",
   "execution_count": null,
   "metadata": {},
   "outputs": [],
   "source": [
    "#greenspace_london.plot(figsize = (10,10))"
   ]
  },
  {
   "cell_type": "markdown",
   "metadata": {},
   "source": [
    "# Calculating the Area of Greenspaces"
   ]
  },
  {
   "cell_type": "markdown",
   "metadata": {},
   "source": [
    "Before we calculate the area of each greenspace polygon we need to intersect the greenspace layer with the UTLA boundaries, so we divide greenspace polygons where they cross UTLA boundaries.\n",
    "\n",
    "We’ve already covered how to do this so see if you can:\n",
    "* load in the Upper Tier Local Authority boundaries (UTLAs) from **\"intro_to_gis_files.gpkg\"**\n",
    "* check the CRS and transform it if necessary\n",
    "* intersect the greenspace and UTLA layers"
   ]
  },
  {
   "cell_type": "code",
   "execution_count": null,
   "metadata": {},
   "outputs": [],
   "source": [
    "#utla = gpd.read_file(r'D:\\2021\\Spatial\\more-GIS-in-Python\\data\\intro_to_gis_files.gpkg', layer = 'UTLA_2019_London')"
   ]
  },
  {
   "cell_type": "code",
   "execution_count": null,
   "metadata": {},
   "outputs": [],
   "source": [
    "#utla.crs"
   ]
  },
  {
   "cell_type": "code",
   "execution_count": null,
   "metadata": {},
   "outputs": [],
   "source": [
    "#utla = utla.to_crs(27700)"
   ]
  },
  {
   "cell_type": "code",
   "execution_count": null,
   "metadata": {},
   "outputs": [],
   "source": [
    "#greenspace_utla_intersection = gpd.overlay(utla, greenspace, how ='intersection')"
   ]
  },
  {
   "cell_type": "markdown",
   "metadata": {},
   "source": [
    "If you take a glimpse at the intersection output you’ll see that for each greenspace polygon, there are now attributes about the UTLA it falls within - we’ve done a spatial join here. We’ve also split greenspace polygons which cover more than one UTLA along the UTLA boundary."
   ]
  },
  {
   "cell_type": "code",
   "execution_count": null,
   "metadata": {},
   "outputs": [],
   "source": [
    "#greenspace_utla_intersection.head()"
   ]
  },
  {
   "cell_type": "markdown",
   "metadata": {},
   "source": [
    "We will shortly calculate summary statistics about greenspace distribution across London. Before we do that you’ll notice we don’t have any attributes for area; we can calculate them using **`.area`**. One thing to be aware of with **`.area`** is that the areas calculated come with units - they are based on the units of the CRS of the layer - so for British National Grid they come in m^2. You can convert them into other units by multiplying the area column with the units you want to convert it to."
   ]
  },
  {
   "cell_type": "code",
   "execution_count": null,
   "metadata": {},
   "outputs": [],
   "source": [
    "#greenspace_utla_intersection['area'] = greenspace_utla_intersection.area"
   ]
  },
  {
   "cell_type": "code",
   "execution_count": null,
   "metadata": {},
   "outputs": [],
   "source": [
    "#greenspace_utla_intersection.head()"
   ]
  },
  {
   "cell_type": "markdown",
   "metadata": {},
   "source": [
    "Convert the area into hectares "
   ]
  },
  {
   "cell_type": "code",
   "execution_count": null,
   "metadata": {},
   "outputs": [],
   "source": [
    "#greenspace_utla_intersection['ha'] = greenspace_utla_intersection.area*0.0001"
   ]
  },
  {
   "cell_type": "code",
   "execution_count": null,
   "metadata": {},
   "outputs": [],
   "source": [
    "#greenspace_utla_intersection.head()"
   ]
  },
  {
   "cell_type": "markdown",
   "metadata": {},
   "source": [
    "# Calculate Greenspace Summary Statistics by Local Authority\n",
    "We’re now going to produce some summary stats:\n",
    "* total area of greenspace per UTLA\n",
    "* number of greenspace areas per UTLA"
   ]
  },
  {
   "cell_type": "markdown",
   "metadata": {},
   "source": [
    "We can use pandas tools to calculate these statistics, so you should be comfortable with these operations.\n",
    "\n",
    "However, before we start, it’s important that we drop the geometry from the data frame using the **`.drop()`** function which allows us to stop using the spatial aspects of this data frame and work with it like a normal, non-spatial data frame."
   ]
  },
  {
   "cell_type": "code",
   "execution_count": null,
   "metadata": {},
   "outputs": [],
   "source": [
    "#utla_greenspace_stats = greenspace_utla_intersection.drop(columns = ['geometry'])"
   ]
  },
  {
   "cell_type": "markdown",
   "metadata": {},
   "source": [
    "Calculate total greenspace are and number of greenspaces"
   ]
  },
  {
   "cell_type": "code",
   "execution_count": null,
   "metadata": {},
   "outputs": [],
   "source": [
    "#utla_greenspace_stats_df = utla_greenspace_stats.groupby('ctyua19cd').ha.agg(['sum','count']).reset_index().rename(columns={'sum' : 'total_greenspace_ha','count':'number_of_greenspaces'})"
   ]
  },
  {
   "cell_type": "code",
   "execution_count": null,
   "metadata": {},
   "outputs": [],
   "source": [
    "#utla_greenspace_stats.head()"
   ]
  },
  {
   "cell_type": "code",
   "execution_count": null,
   "metadata": {},
   "outputs": [],
   "source": [
    "#utla_greenspace_stats_df.head()"
   ]
  },
  {
   "cell_type": "markdown",
   "metadata": {},
   "source": [
    "# Exercise\n",
    "See if you can calculate how many pet rescue incidents happened in each greenspace by using your knowledge of Pandas and the spatial operations you’ve seen so far. How about plotting a map to illustrate them? If you finish quickly, try out some other summary statistics that might be useful for your report."
   ]
  },
  {
   "cell_type": "markdown",
   "metadata": {},
   "source": [
    "# Missing Pet Reports\n",
    "Now we’re going to take a look at some missing pet reports (a reminder this is a toy dataset). Load it in and take a look through the data. While you’re looking, think about what makes this data spatial data, what you’ll need to do to it to make it more useful, and how you might make use of this data."
   ]
  },
  {
   "cell_type": "code",
   "execution_count": null,
   "metadata": {},
   "outputs": [],
   "source": [
    "#lost_pets = pd.read_csv(r'D:\\2021\\Spatial\\more-GIS-in-Python\\data\\csv\\lost_pet_reports.csv')"
   ]
  },
  {
   "cell_type": "code",
   "execution_count": null,
   "metadata": {},
   "outputs": [],
   "source": [
    "#lost_pets.head()"
   ]
  },
  {
   "cell_type": "markdown",
   "metadata": {},
   "source": [
    "So, let’s think about this data:\n",
    "\n",
    "* it’s got coordinates which means we know the position of each individual point - this is the spatial aspect\n",
    "* we also have a statistical geography code (ctyua19cd) which is another piece of spatial information\n",
    "* there’s no metadata so we’re not sure what CRS the coordinates are in. However, the numbers are within the normal range of British National Grid and given this is data for London it seems a sensible choice. So, we’ll try it out and see whether it plots in the right place by verifying this against other location data we have (like the ctyua19nm column).\n",
    "* to make this data a useful format we’ll need to convert the easting and northings into point geometries\n",
    "* there are no NAs within the dataset\n",
    "* and we’ll take a look at some ideas for analysing this data later on!\n",
    "\n",
    "Before we dive into some analysis let’s quickly make some summary stats which we can use to understand our data a bit more, and also to use in our report later. For each area, we’ll find the count of each animal type and calculate this as a percentage of total lost animals."
   ]
  },
  {
   "cell_type": "code",
   "execution_count": null,
   "metadata": {},
   "outputs": [],
   "source": [
    "#lost_pets_stats = #lost_pets.groupby(['ctyua19cd', 'animal']).animal.agg(['count']).reset_index().rename(columns={'count' : 'count_lost_pets'})"
   ]
  },
  {
   "cell_type": "code",
   "execution_count": null,
   "metadata": {},
   "outputs": [],
   "source": [
    "#lost_pets_stats.head()"
   ]
  },
  {
   "cell_type": "code",
   "execution_count": null,
   "metadata": {},
   "outputs": [],
   "source": [
    "#lost_pets_counts = lost_pets.groupby('ctyua19cd').animal.agg(['count']).reset_index().rename(columns={'count':'total_pets'})"
   ]
  },
  {
   "cell_type": "code",
   "execution_count": null,
   "metadata": {},
   "outputs": [],
   "source": [
    "#lost_pets_counts.head()"
   ]
  },
  {
   "cell_type": "code",
   "execution_count": null,
   "metadata": {},
   "outputs": [],
   "source": [
    "#lost_pets_stats = pd.merge(lost_pets_stats,lost_pets_counts, how ='left', on ='ctyua19cd')"
   ]
  },
  {
   "cell_type": "code",
   "execution_count": null,
   "metadata": {},
   "outputs": [],
   "source": [
    "#lost_pets_stats.head()"
   ]
  },
  {
   "cell_type": "code",
   "execution_count": null,
   "metadata": {},
   "outputs": [],
   "source": [
    "#lost_pets_stats['lost_pets_pct'] = (lost_pets_stats.count_lost_pets/lost_pets_stats.total_pets)*100"
   ]
  },
  {
   "cell_type": "code",
   "execution_count": null,
   "metadata": {},
   "outputs": [],
   "source": [
    "#lost_pets_stats.head()"
   ]
  },
  {
   "cell_type": "markdown",
   "metadata": {},
   "source": [
    "Now let’s join the dogs to the UTLA boundaries and plot a map."
   ]
  },
  {
   "cell_type": "code",
   "execution_count": null,
   "metadata": {},
   "outputs": [],
   "source": [
    "#utla_lost_pet_stats  = pd.merge(utla, lost_pets_stats.loc[lost_pets_stats['animal']== 'dog'], how = 'left',on = 'ctyua19cd')"
   ]
  },
  {
   "cell_type": "markdown",
   "metadata": {},
   "source": [
    "Take a look at the data - did everything join successfully?"
   ]
  },
  {
   "cell_type": "code",
   "execution_count": null,
   "metadata": {},
   "outputs": [],
   "source": [
    "#utla_lost_pet_stats.head()"
   ]
  },
  {
   "cell_type": "markdown",
   "metadata": {},
   "source": [
    "Hmm… we have animals in Barking and Dagenham in our summary stats so why haven’t they joined? Take a look at the data and see if you can spot it."
   ]
  },
  {
   "cell_type": "code",
   "execution_count": null,
   "metadata": {},
   "outputs": [],
   "source": [
    "#utla_lost_pet_stats[utla_lost_pet_stats.isna().any(axis=1)]"
   ]
  },
  {
   "cell_type": "markdown",
   "metadata": {},
   "source": [
    "Filtering with the **`.isna()`** function to check your joins can be a good way to test to see which rows haven’t joined. In this case we have 2 rows which haven’t joined. We don’t expect a join for City of London because there were no lost dogs reported there. However, there should have been a join with Barking and Dagenham.\n",
    "\n",
    "If we go further by using the **`.isin()`** function with the tilde, we can find the reason why our join didnt work."
   ]
  },
  {
   "cell_type": "code",
   "execution_count": null,
   "metadata": {},
   "outputs": [],
   "source": [
    "#geocodes_in_utla = utla.ctyua19cd.unique()\n",
    "#not_found_utla_geocodes = lost_pets_stats[~lost_pets_stats['ctyua19cd'].isin(geocodes_in_utla)]\n",
    "#not_found_utla_geocodes"
   ]
  },
  {
   "cell_type": "code",
   "execution_count": null,
   "metadata": {},
   "outputs": [],
   "source": [
    "#geocodes_in_lps = lost_pets_stats.ctyua19cd.unique()\n",
    "#not_found_lps_geocodes = utla[~utla['ctyua19cd'].isin(geocodes_in_lps)]\n",
    "#not_found_lps_geocodes"
   ]
  },
  {
   "cell_type": "markdown",
   "metadata": {},
   "source": [
    "That is because, if you take a look you’ll see there’s an incorrect code - “E09000042”. You can search the code on the ONS Linked Data Portal to see that it doesn’t correspond to a geography. With some more investigation (eg. plotting maps) you can draw the conclusion that this UTLA has been incorrectly labeled. So, we’ll correct it and rerun our previous code."
   ]
  },
  {
   "cell_type": "markdown",
   "metadata": {},
   "source": [
    "Replacing the incorrect code"
   ]
  },
  {
   "cell_type": "code",
   "execution_count": null,
   "metadata": {},
   "outputs": [],
   "source": [
    "#lost_pets = lost_pets.replace(\"E09000042\", \"E09000002\")"
   ]
  },
  {
   "cell_type": "markdown",
   "metadata": {},
   "source": [
    "#### Re-running a few bits of our code to make the corrections on the lost_pets dataframe"
   ]
  },
  {
   "cell_type": "code",
   "execution_count": null,
   "metadata": {},
   "outputs": [],
   "source": [
    "#lost_pets_stats = lost_pets.groupby(['ctyua19cd', 'animal']).animal.agg(['count']).reset_index().rename(columns={'count' : 'count_lost_pets'})"
   ]
  },
  {
   "cell_type": "code",
   "execution_count": null,
   "metadata": {},
   "outputs": [],
   "source": [
    "#lost_pets_stats.head()"
   ]
  },
  {
   "cell_type": "code",
   "execution_count": null,
   "metadata": {},
   "outputs": [],
   "source": [
    "#lost_pets_counts = lost_pets.groupby('ctyua19cd').animal.agg(['count']).reset_index().rename(columns={'count':'total_pets'})"
   ]
  },
  {
   "cell_type": "code",
   "execution_count": null,
   "metadata": {},
   "outputs": [],
   "source": [
    "#lost_pets_counts.head()"
   ]
  },
  {
   "cell_type": "code",
   "execution_count": null,
   "metadata": {},
   "outputs": [],
   "source": [
    "#lost_pets_stats = pd.merge(lost_pets_stats,lost_pets_counts, how ='left', on ='ctyua19cd')"
   ]
  },
  {
   "cell_type": "code",
   "execution_count": null,
   "metadata": {},
   "outputs": [],
   "source": [
    "#lost_pets_stats.head()"
   ]
  },
  {
   "cell_type": "code",
   "execution_count": null,
   "metadata": {},
   "outputs": [],
   "source": [
    "#lost_pets_stats['lost_pets_pct'] = (lost_pets_stats.count_lost_pets/lost_pets_stats.total_pets)*100"
   ]
  },
  {
   "cell_type": "code",
   "execution_count": null,
   "metadata": {},
   "outputs": [],
   "source": [
    "#lost_pets_stats.head()"
   ]
  },
  {
   "cell_type": "code",
   "execution_count": null,
   "metadata": {},
   "outputs": [],
   "source": [
    "#utla_lost_pet_stats  = pd.merge(utla, lost_pets_stats.loc[lost_pets_stats['animal']== 'dog'], how = 'left',on = 'ctyua19cd')"
   ]
  },
  {
   "cell_type": "code",
   "execution_count": null,
   "metadata": {},
   "outputs": [],
   "source": [
    "#utla_lost_pet_stats.head()\n"
   ]
  },
  {
   "cell_type": "code",
   "execution_count": null,
   "metadata": {},
   "outputs": [],
   "source": [
    "#utla_lost_pet_stats[utla_lost_pet_stats.isna().any(axis=1)]"
   ]
  },
  {
   "cell_type": "markdown",
   "metadata": {},
   "source": [
    "Now when we run our **`.isin()`** function we do not expect to get any output if the errors in the data have successfully been dealt with.\n",
    "Lets go ahead and check!"
   ]
  },
  {
   "cell_type": "code",
   "execution_count": null,
   "metadata": {},
   "outputs": [],
   "source": [
    "#geocodes_in_utla = utla.ctyua19cd.unique()\n",
    "#not_found_utla_geocodes = lost_pets_stats[~lost_pets_stats['ctyua19cd'].isin(geocodes_in_utla)]\n",
    "#not_found_utla_geocodes"
   ]
  },
  {
   "cell_type": "code",
   "execution_count": null,
   "metadata": {},
   "outputs": [],
   "source": [
    "#geocodes_in_lps = lost_pets_stats.ctyua19cd.unique()\n",
    "#not_found_lps_geocodes = utla[~utla['ctyua19cd'].isin(geocodes_in_lps)]\n",
    "#not_found_lps_geocodes"
   ]
  },
  {
   "cell_type": "markdown",
   "metadata": {},
   "source": [
    "Time to map out data!"
   ]
  },
  {
   "cell_type": "code",
   "execution_count": null,
   "metadata": {},
   "outputs": [],
   "source": [
    "#f, ax = plt.subplots(figsize=(12,10))\n",
    "#london_boundary.plot(ax=ax, color='white', edgecolor='black', linewidth = 2)\n",
    "#utla_lost_pet_stats.plot(ax=ax, column='lost_pets_pct', cmap='Blues', edgecolor = 'k', \n",
    "#              linewidth = 0.2, scheme=\"User_Defined\", legend=True,\n",
    "#              classification_kwds={'bins':[20, 40, 60, 80, 100]},\n",
    "#              missing_kwds={\"color\": \"lightgrey\", \"edgecolor\": \"black\", \"linewidth\": 0.3,\"label\": \"Missing values\",},\n",
    "#              legend_kwds={'bbox_to_anchor':(1,0.28), 'title':'Lost dog reports (%)'})\n",
    "#ax.add_artist(ScaleBar(1))\n",
    "#plt.title('Lost dogs reported in London, percent of total reports', size = 14)"
   ]
  },
  {
   "cell_type": "markdown",
   "metadata": {},
   "source": [
    "Now, let’s convert our lost pets layer to an sf object ready for our next piece of analysis."
   ]
  },
  {
   "cell_type": "code",
   "execution_count": null,
   "metadata": {},
   "outputs": [],
   "source": [
    "#lost_pets_gdf = gpd.GeoDataFrame(\n",
    "#    lost_pets, geometry=gpd.points_from_xy(lost_pets.easting, lost_pets.northing))\n",
    "#lost_pets_gdf = lost_pets_gdf.set_crs(27700)"
   ]
  },
  {
   "cell_type": "code",
   "execution_count": null,
   "metadata": {},
   "outputs": [],
   "source": [
    "#lost_pets_gdf.head()"
   ]
  },
  {
   "cell_type": "markdown",
   "metadata": {},
   "source": [
    "The **`.explore()`** will only work if you have Geopandas v10.0 later"
   ]
  },
  {
   "cell_type": "code",
   "execution_count": null,
   "metadata": {},
   "outputs": [],
   "source": [
    "#lost_pets_gdf.explore()"
   ]
  },
  {
   "cell_type": "markdown",
   "metadata": {},
   "source": [
    "# Exercise\n",
    "Investigate the data more and practice plotting maps using **`.plot()`** and **`.explore()`**"
   ]
  },
  {
   "cell_type": "markdown",
   "metadata": {},
   "source": [
    "# Fire Stations - data preparation\n",
    "Introducing our last dataset for this piece of work - the location of all London Fire Stations. We’re going to use this data to understand how the London Fire Brigade cover incidents happening in the city.\n",
    "\n",
    "We have a csv list of fire stations - let’s load it in and take a look."
   ]
  },
  {
   "cell_type": "code",
   "execution_count": null,
   "metadata": {},
   "outputs": [],
   "source": [
    "#stations = pd.read_csv(r'D:\\2021\\Spatial\\more-GIS-in-Python\\data\\csv\\london_fire_brigade_stations.csv')"
   ]
  },
  {
   "cell_type": "code",
   "execution_count": null,
   "metadata": {},
   "outputs": [],
   "source": [
    "#stations.info()"
   ]
  },
  {
   "cell_type": "markdown",
   "metadata": {},
   "source": [
    "So, it looks like we’re going to have to do some work to get this in a useable state because:\n",
    "\n",
    "* there are no coordinates to turn this into a spatial object\n",
    "* there are no geography codes to join this to statistical boundaries\n",
    "* column names have spaces so we can’t use them in Python easily\n",
    "\n",
    "Let’s start off with the last point first, because it’s easiest to solve. You can use **`.rename()`** to change individual column names, but here we’re going to use a useful package, **\"janitor\"**, which has some handy data cleaning functions - [take a look at the documentation for more details.](https://pyjanitor-devs.github.io/pyjanitor/).\n",
    "\n",
    "Here, we will use the function **`.clean_names()`** to remove the space and caps in the column **Station Name**.\n",
    "\n",
    "* If you do not have Janitor installed, you could try running the following instead: **`df.rename(columns={\"A\": \"a\"})`**"
   ]
  },
  {
   "cell_type": "code",
   "execution_count": null,
   "metadata": {},
   "outputs": [],
   "source": [
    "#stations = stations.clean_names()"
   ]
  },
  {
   "cell_type": "code",
   "execution_count": null,
   "metadata": {},
   "outputs": [],
   "source": [
    "#stations.head()"
   ]
  },
  {
   "cell_type": "markdown",
   "metadata": {},
   "source": [
    "Now let’s sort out the other two problems. Luckily, this data comes with an address, which we can use to get coordinates. Before we get on with our analysis it’s worth mentioning a couple of things to be aware of:\n",
    "\n",
    "Address Matching It’s possible to match an address to its coordinates using Ordnance Survey’s AddressBase dataset. However, that can be tricky because it requires text matching on address strings, which can be surprisingly challenging (for example, the string “Flat 4a” would be very different from “Flat A, Floor 4” but could easily refer to the same property). We generally don’t recommend going down this route without some serious experience in data linkage!\n",
    "\n",
    "Unique Identifiers The best way to join data is by using unique identifiers. Addressable locations have a unique identifier called UPRN (unique property reference number) which is increasingly used across a range of datasets. ONS also produce UPRN directories which link UPRNs to statistical geography codes for easy aggregation etc. We recommend using UPRN wherever possible.\n",
    "\n",
    "Back to the analysis… For this piece of work we’ll use the postcode to get a location as it will be accurate enough for our analysis, and we don’t have UPRN in this dataset.\n",
    "\n",
    "The first thing to do is pull the postcode out into a new column. There are lots of ways to do this so feel free to use a method you’re comfortable with. We’ll use **`.str.rsplit()`** and select the string after the last comma in the address column."
   ]
  },
  {
   "cell_type": "code",
   "execution_count": null,
   "metadata": {},
   "outputs": [],
   "source": [
    "#stations['postcode'] = stations['address'].str.rsplit(', ').str[-1] "
   ]
  },
  {
   "cell_type": "code",
   "execution_count": null,
   "metadata": {},
   "outputs": [],
   "source": [
    "#stations.head()"
   ]
  },
  {
   "cell_type": "markdown",
   "metadata": {},
   "source": [
    "To deal with the other two problems we’re going to use the [National Statistics Postcode Lookup (NSPL)](https://geoportal.statistics.gov.uk/search?collection=Dataset&sort=name&tags=all(CTD_NSPL)). You can download a copy and load it directly into Python."
   ]
  },
  {
   "cell_type": "code",
   "execution_count": null,
   "metadata": {},
   "outputs": [],
   "source": [
    "#nspl = pd.read_csv(r'D:\\2021\\Spatial\\more-GIS-in-Python\\data\\csv\\NSPL_Latest_Centroids.csv', low_memory= False)"
   ]
  },
  {
   "cell_type": "code",
   "execution_count": null,
   "metadata": {
    "scrolled": true
   },
   "outputs": [],
   "source": [
    "#nspl.columns"
   ]
  },
  {
   "cell_type": "markdown",
   "metadata": {},
   "source": [
    "We will select only the columns we need to make a join and for our coordinates"
   ]
  },
  {
   "cell_type": "code",
   "execution_count": null,
   "metadata": {},
   "outputs": [],
   "source": [
    "#nspl_locations = nspl[['pcd', 'oseast1m', 'osnrth1m']]"
   ]
  },
  {
   "cell_type": "markdown",
   "metadata": {},
   "source": [
    "We then need to remove spaces on our postcodes from both dataframes to make sure they join "
   ]
  },
  {
   "cell_type": "code",
   "execution_count": null,
   "metadata": {},
   "outputs": [],
   "source": [
    "#nspl_locations.pcd = nspl_locations.loc[:,'pcd'].str.replace(' ', '')"
   ]
  },
  {
   "cell_type": "code",
   "execution_count": null,
   "metadata": {},
   "outputs": [],
   "source": [
    "#stations.postcode = stations.loc[:,'postcode'].str.replace(' ', '')"
   ]
  },
  {
   "cell_type": "code",
   "execution_count": null,
   "metadata": {},
   "outputs": [],
   "source": [
    "#station_locations = pd.merge(stations, nspl_locations, how ='left', left_on = 'postcode', right_on ='pcd')"
   ]
  },
  {
   "cell_type": "code",
   "execution_count": null,
   "metadata": {},
   "outputs": [],
   "source": [
    "#station_locations.head()"
   ]
  },
  {
   "cell_type": "markdown",
   "metadata": {},
   "source": [
    "The file has no projection so we’ll have to set projection on it with British National Grid."
   ]
  },
  {
   "cell_type": "code",
   "execution_count": null,
   "metadata": {},
   "outputs": [],
   "source": [
    "#station_locations = gpd.GeoDataFrame(\n",
    "#    station_locations, geometry=gpd.points_from_xy(station_locations.oseast1m, station_locations.osnrth1m))\n",
    "#station_locations = station_locations.set_crs(27700)"
   ]
  },
  {
   "cell_type": "markdown",
   "metadata": {},
   "source": [
    "Finally, we join the spatial dataframe with our attribute dataframe to create a useful file to work with."
   ]
  },
  {
   "cell_type": "code",
   "execution_count": null,
   "metadata": {},
   "outputs": [],
   "source": [
    "#station_locations.head()"
   ]
  },
  {
   "cell_type": "markdown",
   "metadata": {},
   "source": [
    "# Calculate Fire Station Coverage\n",
    "We want to investigate how many reports of lost pets are within 3km of the fire stations (this value is not based on a real life distance - it’s purely illustrative). **`.buffer()`** calculates this area, you’ll notice you have to put a distance in to buffer by - the units for this are always the units of the CRS - in this case meters."
   ]
  },
  {
   "cell_type": "markdown",
   "metadata": {},
   "source": [
    "First lets create a copy of our GeoDataFrame"
   ]
  },
  {
   "cell_type": "code",
   "execution_count": null,
   "metadata": {},
   "outputs": [],
   "source": [
    "#station_locations_3km_buffer = station_locations.copy()"
   ]
  },
  {
   "cell_type": "code",
   "execution_count": null,
   "metadata": {},
   "outputs": [],
   "source": [
    "#station_locations_3km_buffer.geometry = station_locations_3km_buffer['geometry'].buffer(3000)"
   ]
  },
  {
   "cell_type": "markdown",
   "metadata": {},
   "source": [
    "And here’s what we’ve produced"
   ]
  },
  {
   "cell_type": "code",
   "execution_count": null,
   "metadata": {},
   "outputs": [],
   "source": [
    "#f, ax = plt.subplots(figsize=(12,10))\n",
    "#station_locations_3km_buffer.plot(ax=ax, color='lightgrey', edgecolor='black', linewidth = 0.2)\n",
    "#london_boundary.plot(ax=ax, color='none', edgecolor = 'k', linewidth = 2)\n",
    "#ax.add_artist(ScaleBar(1))\n",
    "#plt.title(\"Area served by London Fire Brigade's stations\", size = 14)"
   ]
  },
  {
   "cell_type": "markdown",
   "metadata": {},
   "source": [
    "For ease of analysis we’re going to dissolve our polygons into one large polygon which represents the area served by the fire stations across London."
   ]
  },
  {
   "cell_type": "code",
   "execution_count": null,
   "metadata": {},
   "outputs": [],
   "source": [
    "#station_locations_3km_buffer = station_locations_3km_buffer.assign(group=1)"
   ]
  },
  {
   "cell_type": "code",
   "execution_count": null,
   "metadata": {},
   "outputs": [],
   "source": [
    "#station_locations_3km_buffer_dissolve = station_locations_3km_buffer.dissolve(by = 'group')"
   ]
  },
  {
   "cell_type": "markdown",
   "metadata": {},
   "source": [
    "And see how that differs from our previous layer…"
   ]
  },
  {
   "cell_type": "code",
   "execution_count": null,
   "metadata": {},
   "outputs": [],
   "source": [
    "#f, ax = plt.subplots(figsize=(12,10))\n",
    "#station_locations_3km_buffer_dissolve.plot(ax=ax, color='lightgrey', edgecolor='black', linewidth = 0.2)\n",
    "#london_boundary.plot(ax=ax, color='none', edgecolor = 'k', linewidth = 2)\n",
    "#ax.add_artist(ScaleBar(1))\n",
    "#plt.title(\"Area served by London Fire Brigade's stations\", size = 14)"
   ]
  },
  {
   "cell_type": "markdown",
   "metadata": {},
   "source": [
    "Now let’s see which lost pets are not within 3km of a fire station.\n",
    "\n",
    "We’ll use the **`.overlay()`** function on our GeoDataFrame. This function allows you tosee whether two objects touch, cross or overlap. In our case, we want to find instances where they do not touch so we will have to pass **difference** onto the **how** argument to achieve this."
   ]
  },
  {
   "cell_type": "code",
   "execution_count": null,
   "metadata": {},
   "outputs": [],
   "source": [
    "#uncovered_lost_pets = gpd.overlay(lost_pets_gdf, station_locations_3km_buffer, how='difference')"
   ]
  },
  {
   "cell_type": "markdown",
   "metadata": {},
   "source": [
    "Lets check out the results on a map!"
   ]
  },
  {
   "cell_type": "code",
   "execution_count": null,
   "metadata": {},
   "outputs": [],
   "source": [
    "#f, ax = plt.subplots(figsize=(12,10))\n",
    "#station_locations_3km_buffer_dissolve.plot(ax=ax, color='lightgrey', edgecolor='black', linewidth = 0.2)\n",
    "#london_boundary.plot(ax=ax, color='none', edgecolor = 'k', linewidth = 2)\n",
    "#uncovered_lost_pets.plot(ax=ax, color='red')\n",
    "#ax.add_artist(ScaleBar(1))\n",
    "#plt.title(\"Area served by London Fire Brigade's stations\", size = 14)"
   ]
  },
  {
   "cell_type": "markdown",
   "metadata": {},
   "source": [
    "We can also calculate the distance from each point to the area covered by fire stations. "
   ]
  },
  {
   "cell_type": "code",
   "execution_count": null,
   "metadata": {},
   "outputs": [],
   "source": [
    "#def min_distance(point, polys):\n",
    "#    return polys.distance(point).min()"
   ]
  },
  {
   "cell_type": "code",
   "execution_count": null,
   "metadata": {},
   "outputs": [],
   "source": [
    "#uncovered_lost_pets['min_dist_to_buffer'] = uncovered_lost_pets.geometry.apply(min_distance, args=(station_locations_3km_buffer_dissolve,))"
   ]
  },
  {
   "cell_type": "code",
   "execution_count": null,
   "metadata": {},
   "outputs": [],
   "source": [
    "#uncovered_lost_pets.head()"
   ]
  },
  {
   "cell_type": "markdown",
   "metadata": {},
   "source": [
    "Calculate the mean distance to the fire station service area:"
   ]
  },
  {
   "cell_type": "code",
   "execution_count": null,
   "metadata": {},
   "outputs": [],
   "source": [
    "#mean = uncovered_lost_pets.min_dist_to_buffer.mean()"
   ]
  },
  {
   "cell_type": "code",
   "execution_count": null,
   "metadata": {},
   "outputs": [],
   "source": [
    "#mean"
   ]
  },
  {
   "cell_type": "markdown",
   "metadata": {},
   "source": [
    "# Improving this analysis using Network Analysis\n",
    "The problem with all of the analysis we’ve completed so far is that is uses straight lines to calculate distances (Euclidean distance). In reality, a fire engine would be driving along a road network to get to an incident, so we should use that to calculate our distances. Barriers to travel networks, like motorways or rivers, can be very influential in differences between Euclidean distance and network distance. Luckily, we can calculate network distances with network analysis.\n",
    "\n",
    "We’re not going to dive into this in any detail during this exercise but we wanted to introduce the technique. Here’s an example of our 3km buffer calculated using network analysis instead of a buffer."
   ]
  },
  {
   "cell_type": "markdown",
   "metadata": {},
   "source": [
    "# Final Exercise\n",
    "You have now seen more examples of spatial data wrangling, geospatial operations and analysis techniques, and methods of mapping. By adding this knowledge to your existing experience using Python and Geopandas packages you can now do a wide range of analysis.\n",
    "\n",
    "For the remainder of the session try using the data provided to extend your analysis and produce a short report (Jupyter Notebook perhaps?) or presentation illustrating your findings. You have all three datasets to utilise so think about how you can bring them together to answer some pertinent questions. Here are some ideas to get you started:\n",
    "\n",
    "* Filtering incidents which are covered by two or more stations, also mapping them\n",
    "* Filter incidents which aren’t covered by a fire station\n",
    "* Cutting buffered service area out of London LA to map areas which aren’t covered\n",
    "* assessing whether there’s any link between the number of fire stations which cover an area and the number of animal related incidents\n",
    "* is there a link between cost of incidents and number of reported lost pets?\n",
    "\n",
    "Feel free to pair program or work individually - this is open time for you to cement and extend your skills in the best way for you.\n",
    "\n",
    "At the end of the session we will dedicate time to reviewing the work done by others so we can learn from each other. There will be instructors on hand to support you if needed - please just ask."
   ]
  },
  {
   "cell_type": "markdown",
   "metadata": {},
   "source": [
    "# Reminders"
   ]
  },
  {
   "cell_type": "markdown",
   "metadata": {},
   "source": [
    "You can export your maps using plt.savefig."
   ]
  }
 ],
 "metadata": {
  "kernelspec": {
   "display_name": "Python 3",
   "language": "python",
   "name": "python3"
  },
  "language_info": {
   "codemirror_mode": {
    "name": "ipython",
    "version": 3
   },
   "file_extension": ".py",
   "mimetype": "text/x-python",
   "name": "python",
   "nbconvert_exporter": "python",
   "pygments_lexer": "ipython3",
   "version": "3.8.3"
  }
 },
 "nbformat": 4,
 "nbformat_minor": 4
}
